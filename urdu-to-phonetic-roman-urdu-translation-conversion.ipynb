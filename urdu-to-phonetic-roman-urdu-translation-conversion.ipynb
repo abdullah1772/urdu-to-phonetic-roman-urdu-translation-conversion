{
 "cells": [
  {
   "cell_type": "code",
   "execution_count": 1,
   "id": "9f369195",
   "metadata": {
    "_cell_guid": "b1076dfc-b9ad-4769-8c92-a6c4dae69d19",
    "_uuid": "8f2839f25d086af736a60e9eeb907d3b93b6e0e5",
    "execution": {
     "iopub.execute_input": "2023-01-30T09:49:34.303019Z",
     "iopub.status.busy": "2023-01-30T09:49:34.302248Z",
     "iopub.status.idle": "2023-01-30T09:49:35.998792Z",
     "shell.execute_reply": "2023-01-30T09:49:35.997508Z"
    },
    "papermill": {
     "duration": 1.705359,
     "end_time": "2023-01-30T09:49:36.001858",
     "exception": false,
     "start_time": "2023-01-30T09:49:34.296499",
     "status": "completed"
    },
    "tags": []
   },
   "outputs": [],
   "source": [
    "import numpy as np\n",
    "import pandas as pd\n",
    "import nltk\n",
    "import re"
   ]
  },
  {
   "cell_type": "code",
   "execution_count": 2,
   "id": "91139149",
   "metadata": {
    "execution": {
     "iopub.execute_input": "2023-01-30T09:49:36.009639Z",
     "iopub.status.busy": "2023-01-30T09:49:36.009203Z",
     "iopub.status.idle": "2023-01-30T09:49:36.026674Z",
     "shell.execute_reply": "2023-01-30T09:49:36.025454Z"
    },
    "papermill": {
     "duration": 0.024466,
     "end_time": "2023-01-30T09:49:36.029522",
     "exception": false,
     "start_time": "2023-01-30T09:49:36.005056",
     "status": "completed"
    },
    "tags": []
   },
   "outputs": [],
   "source": [
    "urdu_stopwords = pd.read_csv(\"/kaggle/input/urdutoromanurdustopwords/urdu-to-roman-stop-words.csv\")"
   ]
  },
  {
   "cell_type": "code",
   "execution_count": 3,
   "id": "4419626f",
   "metadata": {
    "execution": {
     "iopub.execute_input": "2023-01-30T09:49:36.037122Z",
     "iopub.status.busy": "2023-01-30T09:49:36.036699Z",
     "iopub.status.idle": "2023-01-30T09:49:36.046535Z",
     "shell.execute_reply": "2023-01-30T09:49:36.045368Z"
    },
    "papermill": {
     "duration": 0.016558,
     "end_time": "2023-01-30T09:49:36.049119",
     "exception": false,
     "start_time": "2023-01-30T09:49:36.032561",
     "status": "completed"
    },
    "tags": []
   },
   "outputs": [],
   "source": [
    "Urdu_alphabets = pd.read_csv(\"/kaggle/input/urdu-to-roman-urdu-alphabets/Urdu_alphabets_to_Roman_Alphabets.csv\")"
   ]
  },
  {
   "cell_type": "code",
   "execution_count": 4,
   "id": "3940ea68",
   "metadata": {
    "execution": {
     "iopub.execute_input": "2023-01-30T09:49:36.056266Z",
     "iopub.status.busy": "2023-01-30T09:49:36.055875Z",
     "iopub.status.idle": "2023-01-30T09:49:36.074232Z",
     "shell.execute_reply": "2023-01-30T09:49:36.072975Z"
    },
    "papermill": {
     "duration": 0.024908,
     "end_time": "2023-01-30T09:49:36.076950",
     "exception": false,
     "start_time": "2023-01-30T09:49:36.052042",
     "status": "completed"
    },
    "tags": []
   },
   "outputs": [
    {
     "data": {
      "text/html": [
       "<div>\n",
       "<style scoped>\n",
       "    .dataframe tbody tr th:only-of-type {\n",
       "        vertical-align: middle;\n",
       "    }\n",
       "\n",
       "    .dataframe tbody tr th {\n",
       "        vertical-align: top;\n",
       "    }\n",
       "\n",
       "    .dataframe thead th {\n",
       "        text-align: right;\n",
       "    }\n",
       "</style>\n",
       "<table border=\"1\" class=\"dataframe\">\n",
       "  <thead>\n",
       "    <tr style=\"text-align: right;\">\n",
       "      <th></th>\n",
       "      <th>urdu</th>\n",
       "      <th>roman</th>\n",
       "    </tr>\n",
       "  </thead>\n",
       "  <tbody>\n",
       "    <tr>\n",
       "      <th>0</th>\n",
       "      <td>آؤ</td>\n",
       "      <td>aao</td>\n",
       "    </tr>\n",
       "    <tr>\n",
       "      <th>1</th>\n",
       "      <td>آو</td>\n",
       "      <td>aao</td>\n",
       "    </tr>\n",
       "    <tr>\n",
       "      <th>2</th>\n",
       "      <td>آئی</td>\n",
       "      <td>aai</td>\n",
       "    </tr>\n",
       "    <tr>\n",
       "      <th>3</th>\n",
       "      <td>آئیں</td>\n",
       "      <td>aaien</td>\n",
       "    </tr>\n",
       "    <tr>\n",
       "      <th>4</th>\n",
       "      <td>آئے</td>\n",
       "      <td>aye</td>\n",
       "    </tr>\n",
       "  </tbody>\n",
       "</table>\n",
       "</div>"
      ],
      "text/plain": [
       "   urdu  roman\n",
       "0    آؤ    aao\n",
       "1    آو    aao\n",
       "2   آئی    aai\n",
       "3  آئیں  aaien\n",
       "4   آئے    aye"
      ]
     },
     "execution_count": 4,
     "metadata": {},
     "output_type": "execute_result"
    }
   ],
   "source": [
    "urdu_stopwords.head()"
   ]
  },
  {
   "cell_type": "code",
   "execution_count": 5,
   "id": "e45303d3",
   "metadata": {
    "execution": {
     "iopub.execute_input": "2023-01-30T09:49:36.084871Z",
     "iopub.status.busy": "2023-01-30T09:49:36.084480Z",
     "iopub.status.idle": "2023-01-30T09:49:36.095079Z",
     "shell.execute_reply": "2023-01-30T09:49:36.093849Z"
    },
    "papermill": {
     "duration": 0.017184,
     "end_time": "2023-01-30T09:49:36.097302",
     "exception": false,
     "start_time": "2023-01-30T09:49:36.080118",
     "status": "completed"
    },
    "tags": []
   },
   "outputs": [
    {
     "data": {
      "text/html": [
       "<div>\n",
       "<style scoped>\n",
       "    .dataframe tbody tr th:only-of-type {\n",
       "        vertical-align: middle;\n",
       "    }\n",
       "\n",
       "    .dataframe tbody tr th {\n",
       "        vertical-align: top;\n",
       "    }\n",
       "\n",
       "    .dataframe thead th {\n",
       "        text-align: right;\n",
       "    }\n",
       "</style>\n",
       "<table border=\"1\" class=\"dataframe\">\n",
       "  <thead>\n",
       "    <tr style=\"text-align: right;\">\n",
       "      <th></th>\n",
       "      <th>urdu</th>\n",
       "      <th>roman</th>\n",
       "    </tr>\n",
       "  </thead>\n",
       "  <tbody>\n",
       "    <tr>\n",
       "      <th>0</th>\n",
       "      <td>آ</td>\n",
       "      <td>aa</td>\n",
       "    </tr>\n",
       "    <tr>\n",
       "      <th>1</th>\n",
       "      <td>ا</td>\n",
       "      <td>a</td>\n",
       "    </tr>\n",
       "    <tr>\n",
       "      <th>2</th>\n",
       "      <td>ب</td>\n",
       "      <td>b</td>\n",
       "    </tr>\n",
       "    <tr>\n",
       "      <th>3</th>\n",
       "      <td>پ</td>\n",
       "      <td>p</td>\n",
       "    </tr>\n",
       "    <tr>\n",
       "      <th>4</th>\n",
       "      <td>ت</td>\n",
       "      <td>t</td>\n",
       "    </tr>\n",
       "  </tbody>\n",
       "</table>\n",
       "</div>"
      ],
      "text/plain": [
       "  urdu roman\n",
       "0    آ    aa\n",
       "1    ا     a\n",
       "2    ب     b\n",
       "3    پ     p\n",
       "4    ت     t"
      ]
     },
     "execution_count": 5,
     "metadata": {},
     "output_type": "execute_result"
    }
   ],
   "source": [
    "Urdu_alphabets.head()"
   ]
  },
  {
   "cell_type": "code",
   "execution_count": 6,
   "id": "666c052b",
   "metadata": {
    "execution": {
     "iopub.execute_input": "2023-01-30T09:49:36.105137Z",
     "iopub.status.busy": "2023-01-30T09:49:36.104763Z",
     "iopub.status.idle": "2023-01-30T09:49:36.112940Z",
     "shell.execute_reply": "2023-01-30T09:49:36.111706Z"
    },
    "papermill": {
     "duration": 0.014679,
     "end_time": "2023-01-30T09:49:36.115236",
     "exception": false,
     "start_time": "2023-01-30T09:49:36.100557",
     "status": "completed"
    },
    "tags": []
   },
   "outputs": [],
   "source": [
    "def urdu_to_roman(Urdu_string):\n",
    "    \n",
    "    Urdu_string_lst=Urdu_string.split()\n",
    "    \n",
    "    roman_lst=[]\n",
    "    \n",
    "    for word in Urdu_string_lst:\n",
    "        temp = word\n",
    "        \n",
    "        for idx, stopword in enumerate(urdu_stopwords['urdu']):\n",
    "            if stopword==word:\n",
    "                temp = urdu_stopwords.iloc[idx]['roman']\n",
    "                break\n",
    "\n",
    "        for i, j in enumerate(Urdu_alphabets['urdu']):      \n",
    "            temp = temp.replace(j , Urdu_alphabets.iloc[i]['roman'])\n",
    "\n",
    "        roman_lst.append(temp)\n",
    "        \n",
    "    Roman_string=' '.join(roman_lst)\n",
    "    \n",
    "    return Roman_string"
   ]
  },
  {
   "cell_type": "code",
   "execution_count": 7,
   "id": "49da7b98",
   "metadata": {
    "execution": {
     "iopub.execute_input": "2023-01-30T09:49:36.123212Z",
     "iopub.status.busy": "2023-01-30T09:49:36.122821Z",
     "iopub.status.idle": "2023-01-30T09:49:36.143073Z",
     "shell.execute_reply": "2023-01-30T09:49:36.141803Z"
    },
    "papermill": {
     "duration": 0.02681,
     "end_time": "2023-01-30T09:49:36.145325",
     "exception": false,
     "start_time": "2023-01-30T09:49:36.118515",
     "status": "completed"
    },
    "tags": []
   },
   "outputs": [],
   "source": [
    "Urdu_string = 'میرا نام عبداللہ ہے'\n",
    "Roman_string = urdu_to_roman(Urdu_string)"
   ]
  },
  {
   "cell_type": "code",
   "execution_count": 8,
   "id": "081b237a",
   "metadata": {
    "execution": {
     "iopub.execute_input": "2023-01-30T09:49:36.153545Z",
     "iopub.status.busy": "2023-01-30T09:49:36.152766Z",
     "iopub.status.idle": "2023-01-30T09:49:36.159662Z",
     "shell.execute_reply": "2023-01-30T09:49:36.158530Z"
    },
    "papermill": {
     "duration": 0.013351,
     "end_time": "2023-01-30T09:49:36.161966",
     "exception": false,
     "start_time": "2023-01-30T09:49:36.148615",
     "status": "completed"
    },
    "tags": []
   },
   "outputs": [
    {
     "data": {
      "text/plain": [
       "'mera nam abdallha hay'"
      ]
     },
     "execution_count": 8,
     "metadata": {},
     "output_type": "execute_result"
    }
   ],
   "source": [
    "Roman_string"
   ]
  }
 ],
 "metadata": {
  "kernelspec": {
   "display_name": "Python 3",
   "language": "python",
   "name": "python3"
  },
  "language_info": {
   "codemirror_mode": {
    "name": "ipython",
    "version": 3
   },
   "file_extension": ".py",
   "mimetype": "text/x-python",
   "name": "python",
   "nbconvert_exporter": "python",
   "pygments_lexer": "ipython3",
   "version": "3.7.12"
  },
  "papermill": {
   "default_parameters": {},
   "duration": 11.133586,
   "end_time": "2023-01-30T09:49:36.886318",
   "environment_variables": {},
   "exception": null,
   "input_path": "__notebook__.ipynb",
   "output_path": "__notebook__.ipynb",
   "parameters": {},
   "start_time": "2023-01-30T09:49:25.752732",
   "version": "2.3.4"
  }
 },
 "nbformat": 4,
 "nbformat_minor": 5
}
